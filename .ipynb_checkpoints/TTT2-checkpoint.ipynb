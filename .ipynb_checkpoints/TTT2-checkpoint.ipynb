{
 "cells": [
  {
   "cell_type": "code",
   "execution_count": 1,
   "id": "toxic-clinton",
   "metadata": {},
   "outputs": [],
   "source": [
    "import random\n",
    "import numpy as np\n",
    "\n",
    "from math import log, sqrt"
   ]
  },
  {
   "cell_type": "code",
   "execution_count": 2,
   "id": "invisible-upset",
   "metadata": {},
   "outputs": [],
   "source": [
    "class TTT():\n",
    "    def __init__(self):\n",
    "        self.board = np.zeros((3, 3));\n",
    "        self.next = 1\n",
    "    \n",
    "    def actions(self):\n",
    "        x, y = np.where(self.board == 0)\n",
    "        return [(x[i], y[i]) for i in range(len(x))]\n",
    "    \n",
    "    def check_win(self):\n",
    "        row_sums = np.sum(self.board, axis=0)\n",
    "        col_sums = np.sum(self.board, axis=1)\n",
    "        d1_sums = np.sum(self.board.diagonal())\n",
    "        d2_sums = np.sum(np.fliplr(self.board).diagonal())\n",
    "        \n",
    "        row_check = np.any(row_sums == 3.)\n",
    "        col_check = np.any(col_sums == 3.)\n",
    "        d1_check = d1_sums == 3.\n",
    "        d2_check = d2_sums == 3.\n",
    "        \n",
    "        if row_check or col_check or d1_check or d2_check:\n",
    "            return 2\n",
    "        \n",
    "        row_check = np.any(row_sums == -3.)\n",
    "        col_check = np.any(col_sums == -3.)\n",
    "        d1_check = d1_sums == -3.\n",
    "        d2_check = d2_sums == -3.\n",
    "        \n",
    "        if row_check or col_check or d1_check or d2_check:\n",
    "            return -1\n",
    "        \n",
    "        if np.any(self.board == 0.):\n",
    "            return 0\n",
    "        \n",
    "        return 1\n",
    "    \n",
    "    def gen_state(self, action):\n",
    "        if self.board[action] != 0:\n",
    "            raise Exception('Unavailable cell.')\n",
    "        \n",
    "        state = TTT()\n",
    "        state.board = np.copy(self.board)\n",
    "        \n",
    "        state.board[action] = self.next\n",
    "        state.next = -self.next\n",
    "        \n",
    "        return state\n",
    "        \n",
    "        \n",
    "class MCTSNode():\n",
    "    def __init__(self, state):\n",
    "        self.state = state\n",
    "        self.visits = 0\n",
    "        self.value = state.check_win()\n",
    "        self.terminal = self.value != 0\n",
    "        self.children = []\n",
    "        \n",
    "    def generate_children(self):\n",
    "        if self.children:\n",
    "            raise Exception('Children already exist.')\n",
    "        \n",
    "        self.children = [(MCTSNode(self.state.gen_state(action)), action) for action in self.state.actions()]\n",
    "        \n",
    "    def ucb(self, parent_n):\n",
    "        if self.terminal:\n",
    "            return self.value\n",
    "        \n",
    "        if self.visits == 0:\n",
    "            return None\n",
    "        \n",
    "        v = self.value / self.visits\n",
    "        \n",
    "        return v + 2 * sqrt(log(parent_n) / self.visits)\n",
    "        \n",
    "    \n",
    "    def choose_children(self):\n",
    "        if self.terminal:\n",
    "            raise Exception('Leaf nodes have no children.')\n",
    "            \n",
    "        if not self.children:\n",
    "            raise Exception('Children havent been generated.')\n",
    "            \n",
    "        if self.state.next == -1:\n",
    "            return random.choice(self.children)\n",
    "        \n",
    "        ucb_list = [state.ucb(self.visits) for state, action in self.children]\n",
    "        \n",
    "        if None in ucb_list:\n",
    "            idx = ucb_list.index(None)\n",
    "        else:\n",
    "            idx = np.argmax(ucb_list)\n",
    "        \n",
    "        return self.children[idx]\n",
    "    \n",
    "    def best_move(self):\n",
    "        if self.terminal:\n",
    "            raise Exception('Leaf nodes have no children.')\n",
    "        \n",
    "        if not self.children:\n",
    "            raise Exception('Children havent been generated.')\n",
    "        \n",
    "        if self.state.next == -1:\n",
    "            return random.choice(self.children)[0]\n",
    "            \n",
    "        ucb_list = [(state, state.ucb(self.visits)) for state, _ in self.children]\n",
    "        ucb_list = [(state, ucb) for state, ucb in ucb_list if ucb != None]\n",
    "        \n",
    "        best_state, best_ucb = ucb_list[0]\n",
    "        for state, ucb in ucb_list:\n",
    "            if ucb > best_ucb:\n",
    "                best_state = state\n",
    "                best_ucb = ucb\n",
    "        \n",
    "        return best_state\n",
    "        \n",
    "    \n",
    "def play(n_epochs=100000):\n",
    "    root_state = TTT()\n",
    "    root_node = MCTSNode(root_state)\n",
    "    results = [0 for _ in range(n_epochs)]\n",
    "    \n",
    "    for i in range(n_epochs):\n",
    "        node_hist = traverse(root_node)\n",
    "        \n",
    "        node_leaf = node_hist[-1]\n",
    "        \n",
    "        if not node_leaf.terminal:\n",
    "            value = rollout(node_leaf)\n",
    "            node_leaf.generate_children()\n",
    "        else:\n",
    "            value = node_leaf.value\n",
    "            node_hist.pop()\n",
    "        \n",
    "        for node in node_hist:\n",
    "            node.value += value\n",
    "            node.visits += 1\n",
    "        \n",
    "        results[i] = value\n",
    "    \n",
    "    return root_node, results\n",
    "\n",
    "\n",
    "def traverse(node):\n",
    "    node_hist = [node]\n",
    "    \n",
    "    while node.children and not node.terminal:\n",
    "        node = node.choose_children()[0]\n",
    "        node_hist.append(node)\n",
    "        \n",
    "    return node_hist\n",
    "\n",
    "\n",
    "def rollout(node):\n",
    "    state = node.state\n",
    "    value = state.check_win()\n",
    "    \n",
    "    while value == 0:\n",
    "        actions = state.actions()\n",
    "        a = random.choice(actions)\n",
    "        \n",
    "        state = state.gen_state(a)\n",
    "        value = state.check_win()\n",
    "    \n",
    "    return value"
   ]
  },
  {
   "cell_type": "code",
   "execution_count": 3,
   "id": "induced-round",
   "metadata": {
    "scrolled": true
   },
   "outputs": [],
   "source": [
    "root, results = play()"
   ]
  },
  {
   "cell_type": "code",
   "execution_count": 4,
   "id": "geographic-indian",
   "metadata": {},
   "outputs": [
    {
     "data": {
      "text/plain": [
       "((100000,), (100000,), (100000,))"
      ]
     },
     "execution_count": 4,
     "metadata": {},
     "output_type": "execute_result"
    }
   ],
   "source": [
    "losses = np.cumsum((np.array(results) == -1))\n",
    "ties = np.cumsum((np.array(results) == 1))\n",
    "wins = np.cumsum(np.array(results) == 2)\n",
    "\n",
    "losses.shape, ties.shape, wins.shape"
   ]
  },
  {
   "cell_type": "code",
   "execution_count": 5,
   "id": "intended-aquatic",
   "metadata": {},
   "outputs": [
    {
     "data": {
      "image/png": "[encoded data removed]",
      "text/plain": [
       "<Figure size 432x288 with 1 Axes>"
      ]
     },
     "metadata": {
      "needs_background": "light"
     },
     "output_type": "display_data"
    }
   ],
   "source": [
    "import matplotlib.pyplot as plt\n",
    "\n",
    "plt.plot(losses, label='losses')\n",
    "plt.plot(ties, label='ties')\n",
    "plt.plot(wins, label='wins')\n",
    "\n",
    "plt.legend()\n",
    "plt.ylabel('How many times a result occured')\n",
    "plt.xlabel('Number of epochs')\n",
    "\n",
    "plt.show()"
   ]
  },
  {
   "cell_type": "code",
   "execution_count": 6,
   "id": "consolidated-prison",
   "metadata": {},
   "outputs": [
    {
     "data": {
      "text/plain": [
       "\"\\nnode = root\\nprint(node.state.board)\\nprint(' ')\\n\\nwhile not node.terminal:\\n    node = node.best_move()\\n    \\n    print(node.state.board)\\n    print(node.value, node.visits)\\n    print(' ')\\n\""
      ]
     },
     "execution_count": 6,
     "metadata": {},
     "output_type": "execute_result"
    }
   ],
   "source": [
    "\"\"\"\n",
    "node = root\n",
    "print(node.state.board)\n",
    "print(' ')\n",
    "\n",
    "while not node.terminal:\n",
    "    node = node.best_move()\n",
    "    \n",
    "    print(node.state.board)\n",
    "    print(node.value, node.visits)\n",
    "    print(' ')\n",
    "\"\"\""
   ]
  },
  {
   "cell_type": "code",
   "execution_count": null,
   "id": "contained-shadow",
   "metadata": {},
   "outputs": [],
   "source": []
  }
 ],
 "metadata": {
  "kernelspec": {
   "display_name": "Python 3",
   "language": "python",
   "name": "python3"
  },
  "language_info": {
   "codemirror_mode": {
    "name": "ipython",
    "version": 3
   },
   "file_extension": ".py",
   "mimetype": "text/x-python",
   "name": "python",
   "nbconvert_exporter": "python",
   "pygments_lexer": "ipython3",
   "version": "3.9.0"
  }
 },
 "nbformat": 4,
 "nbformat_minor": 5
}
